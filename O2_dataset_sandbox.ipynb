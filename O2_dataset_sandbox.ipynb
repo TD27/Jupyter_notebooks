{
 "cells": [
  {
   "cell_type": "markdown",
   "metadata": {},
   "source": [
    "# O2 O2TV dataset sandbox"
   ]
  },
  {
   "cell_type": "code",
   "execution_count": 1,
   "metadata": {},
   "outputs": [],
   "source": [
    "import pandas as pd\n",
    "import numpy as np\n",
    "import matplotlib.pyplot as plt\n",
    "%matplotlib inline"
   ]
  },
  {
   "cell_type": "code",
   "execution_count": 2,
   "metadata": {},
   "outputs": [],
   "source": [
    "path=\"/Users/td/Data/O2/STB_reboots_hourly.csv\"\n",
    "data = pd.read_csv(path,parse_dates=[\"Timestamp\"],index_col=[\"Timestamp\"])"
   ]
  },
  {
   "cell_type": "code",
   "execution_count": 3,
   "metadata": {},
   "outputs": [
    {
     "data": {
      "text/html": [
       "<div>\n",
       "<style scoped>\n",
       "    .dataframe tbody tr th:only-of-type {\n",
       "        vertical-align: middle;\n",
       "    }\n",
       "\n",
       "    .dataframe tbody tr th {\n",
       "        vertical-align: top;\n",
       "    }\n",
       "\n",
       "    .dataframe thead th {\n",
       "        text-align: right;\n",
       "    }\n",
       "</style>\n",
       "<table border=\"1\" class=\"dataframe\">\n",
       "  <thead>\n",
       "    <tr style=\"text-align: right;\">\n",
       "      <th></th>\n",
       "      <th>Count</th>\n",
       "    </tr>\n",
       "    <tr>\n",
       "      <th>Timestamp</th>\n",
       "      <th></th>\n",
       "    </tr>\n",
       "  </thead>\n",
       "  <tbody>\n",
       "    <tr>\n",
       "      <td>2020-02-21 12:00:00</td>\n",
       "      <td>8072.66667</td>\n",
       "    </tr>\n",
       "    <tr>\n",
       "      <td>2020-02-21 15:00:00</td>\n",
       "      <td>8519.66667</td>\n",
       "    </tr>\n",
       "    <tr>\n",
       "      <td>2020-02-21 18:00:00</td>\n",
       "      <td>11052.00000</td>\n",
       "    </tr>\n",
       "    <tr>\n",
       "      <td>2020-02-21 21:00:00</td>\n",
       "      <td>6377.33333</td>\n",
       "    </tr>\n",
       "    <tr>\n",
       "      <td>2020-02-22 00:00:00</td>\n",
       "      <td>7159.33333</td>\n",
       "    </tr>\n",
       "  </tbody>\n",
       "</table>\n",
       "</div>"
      ],
      "text/plain": [
       "                           Count\n",
       "Timestamp                       \n",
       "2020-02-21 12:00:00   8072.66667\n",
       "2020-02-21 15:00:00   8519.66667\n",
       "2020-02-21 18:00:00  11052.00000\n",
       "2020-02-21 21:00:00   6377.33333\n",
       "2020-02-22 00:00:00   7159.33333"
      ]
     },
     "execution_count": 3,
     "metadata": {},
     "output_type": "execute_result"
    }
   ],
   "source": [
    "data.head(5) #it shows 5 rows of the table"
   ]
  },
  {
   "cell_type": "code",
   "execution_count": 4,
   "metadata": {},
   "outputs": [
    {
     "data": {
      "text/plain": [
       "125"
      ]
     },
     "execution_count": 4,
     "metadata": {},
     "output_type": "execute_result"
    }
   ],
   "source": [
    "data.size"
   ]
  },
  {
   "cell_type": "code",
   "execution_count": 5,
   "metadata": {},
   "outputs": [
    {
     "data": {
      "text/plain": [
       "8072.6666700000005"
      ]
     },
     "execution_count": 5,
     "metadata": {},
     "output_type": "execute_result"
    }
   ],
   "source": [
    "data.Count[0] #it shows first row of the column Count"
   ]
  },
  {
   "cell_type": "code",
   "execution_count": 6,
   "metadata": {},
   "outputs": [
    {
     "data": {
      "text/plain": [
       "numpy.float64"
      ]
     },
     "execution_count": 6,
     "metadata": {},
     "output_type": "execute_result"
    }
   ],
   "source": [
    "type(data.Count[0]) #it shows data type of the first row of the column Count"
   ]
  },
  {
   "cell_type": "code",
   "execution_count": 7,
   "metadata": {},
   "outputs": [
    {
     "data": {
      "text/plain": [
       "DatetimeIndex(['2020-02-21 12:00:00', '2020-02-21 15:00:00',\n",
       "               '2020-02-21 18:00:00', '2020-02-21 21:00:00',\n",
       "               '2020-02-22 00:00:00', '2020-02-22 03:00:00',\n",
       "               '2020-02-22 06:00:00', '2020-02-22 09:00:00',\n",
       "               '2020-02-22 12:00:00', '2020-02-22 15:00:00',\n",
       "               ...\n",
       "               '2020-03-06 21:00:00', '2020-03-07 00:00:00',\n",
       "               '2020-03-07 03:00:00', '2020-03-07 06:00:00',\n",
       "               '2020-03-07 09:00:00', '2020-03-07 12:00:00',\n",
       "               '2020-03-07 15:00:00', '2020-03-07 18:00:00',\n",
       "               '2020-03-07 21:00:00', '2020-03-08 00:00:00'],\n",
       "              dtype='datetime64[ns]', name='Timestamp', length=125, freq=None)"
      ]
     },
     "execution_count": 7,
     "metadata": {},
     "output_type": "execute_result"
    }
   ],
   "source": [
    "data.index #it shows index of the table data"
   ]
  },
  {
   "cell_type": "code",
   "execution_count": 8,
   "metadata": {},
   "outputs": [
    {
     "data": {
      "text/html": [
       "<div>\n",
       "<style scoped>\n",
       "    .dataframe tbody tr th:only-of-type {\n",
       "        vertical-align: middle;\n",
       "    }\n",
       "\n",
       "    .dataframe tbody tr th {\n",
       "        vertical-align: top;\n",
       "    }\n",
       "\n",
       "    .dataframe thead th {\n",
       "        text-align: right;\n",
       "    }\n",
       "</style>\n",
       "<table border=\"1\" class=\"dataframe\">\n",
       "  <thead>\n",
       "    <tr style=\"text-align: right;\">\n",
       "      <th></th>\n",
       "      <th>Count</th>\n",
       "    </tr>\n",
       "    <tr>\n",
       "      <th>Timestamp</th>\n",
       "      <th></th>\n",
       "    </tr>\n",
       "  </thead>\n",
       "  <tbody>\n",
       "    <tr>\n",
       "      <td>2020-03-01 00:00:00</td>\n",
       "      <td>7198.66667</td>\n",
       "    </tr>\n",
       "    <tr>\n",
       "      <td>2020-03-01 03:00:00</td>\n",
       "      <td>6625.33333</td>\n",
       "    </tr>\n",
       "    <tr>\n",
       "      <td>2020-03-01 06:00:00</td>\n",
       "      <td>8799.33333</td>\n",
       "    </tr>\n",
       "    <tr>\n",
       "      <td>2020-03-01 09:00:00</td>\n",
       "      <td>10982.00000</td>\n",
       "    </tr>\n",
       "    <tr>\n",
       "      <td>2020-03-01 12:00:00</td>\n",
       "      <td>10948.00000</td>\n",
       "    </tr>\n",
       "    <tr>\n",
       "      <td>2020-03-01 15:00:00</td>\n",
       "      <td>11778.66667</td>\n",
       "    </tr>\n",
       "    <tr>\n",
       "      <td>2020-03-01 18:00:00</td>\n",
       "      <td>12377.66667</td>\n",
       "    </tr>\n",
       "    <tr>\n",
       "      <td>2020-03-01 21:00:00</td>\n",
       "      <td>9529.33333</td>\n",
       "    </tr>\n",
       "  </tbody>\n",
       "</table>\n",
       "</div>"
      ],
      "text/plain": [
       "                           Count\n",
       "Timestamp                       \n",
       "2020-03-01 00:00:00   7198.66667\n",
       "2020-03-01 03:00:00   6625.33333\n",
       "2020-03-01 06:00:00   8799.33333\n",
       "2020-03-01 09:00:00  10982.00000\n",
       "2020-03-01 12:00:00  10948.00000\n",
       "2020-03-01 15:00:00  11778.66667\n",
       "2020-03-01 18:00:00  12377.66667\n",
       "2020-03-01 21:00:00   9529.33333"
      ]
     },
     "execution_count": 8,
     "metadata": {},
     "output_type": "execute_result"
    }
   ],
   "source": [
    "data[\"2020-03-01\"] #it shows data of the given day"
   ]
  },
  {
   "cell_type": "code",
   "execution_count": 9,
   "metadata": {},
   "outputs": [
    {
     "data": {
      "text/plain": [
       "9779.875"
      ]
     },
     "execution_count": 9,
     "metadata": {},
     "output_type": "execute_result"
    }
   ],
   "source": [
    "data[\"2020-03-01\"].Count.mean() #it counts mean of the column Count in the given day"
   ]
  },
  {
   "cell_type": "code",
   "execution_count": 10,
   "metadata": {},
   "outputs": [
    {
     "data": {
      "text/html": [
       "<div>\n",
       "<style scoped>\n",
       "    .dataframe tbody tr th:only-of-type {\n",
       "        vertical-align: middle;\n",
       "    }\n",
       "\n",
       "    .dataframe tbody tr th {\n",
       "        vertical-align: top;\n",
       "    }\n",
       "\n",
       "    .dataframe thead th {\n",
       "        text-align: right;\n",
       "    }\n",
       "</style>\n",
       "<table border=\"1\" class=\"dataframe\">\n",
       "  <thead>\n",
       "    <tr style=\"text-align: right;\">\n",
       "      <th></th>\n",
       "      <th>Count</th>\n",
       "    </tr>\n",
       "    <tr>\n",
       "      <th>Timestamp</th>\n",
       "      <th></th>\n",
       "    </tr>\n",
       "  </thead>\n",
       "  <tbody>\n",
       "    <tr>\n",
       "      <td>2020-02-29 00:00:00</td>\n",
       "      <td>6683.66667</td>\n",
       "    </tr>\n",
       "    <tr>\n",
       "      <td>2020-02-29 03:00:00</td>\n",
       "      <td>6990.33333</td>\n",
       "    </tr>\n",
       "    <tr>\n",
       "      <td>2020-02-29 06:00:00</td>\n",
       "      <td>8960.33333</td>\n",
       "    </tr>\n",
       "    <tr>\n",
       "      <td>2020-02-29 09:00:00</td>\n",
       "      <td>10449.00000</td>\n",
       "    </tr>\n",
       "    <tr>\n",
       "      <td>2020-02-29 12:00:00</td>\n",
       "      <td>11021.66667</td>\n",
       "    </tr>\n",
       "    <tr>\n",
       "      <td>2020-02-29 15:00:00</td>\n",
       "      <td>12757.00000</td>\n",
       "    </tr>\n",
       "    <tr>\n",
       "      <td>2020-02-29 18:00:00</td>\n",
       "      <td>12283.66667</td>\n",
       "    </tr>\n",
       "    <tr>\n",
       "      <td>2020-02-29 21:00:00</td>\n",
       "      <td>9338.66667</td>\n",
       "    </tr>\n",
       "    <tr>\n",
       "      <td>2020-03-01 00:00:00</td>\n",
       "      <td>7198.66667</td>\n",
       "    </tr>\n",
       "    <tr>\n",
       "      <td>2020-03-01 03:00:00</td>\n",
       "      <td>6625.33333</td>\n",
       "    </tr>\n",
       "    <tr>\n",
       "      <td>2020-03-01 06:00:00</td>\n",
       "      <td>8799.33333</td>\n",
       "    </tr>\n",
       "    <tr>\n",
       "      <td>2020-03-01 09:00:00</td>\n",
       "      <td>10982.00000</td>\n",
       "    </tr>\n",
       "    <tr>\n",
       "      <td>2020-03-01 12:00:00</td>\n",
       "      <td>10948.00000</td>\n",
       "    </tr>\n",
       "    <tr>\n",
       "      <td>2020-03-01 15:00:00</td>\n",
       "      <td>11778.66667</td>\n",
       "    </tr>\n",
       "    <tr>\n",
       "      <td>2020-03-01 18:00:00</td>\n",
       "      <td>12377.66667</td>\n",
       "    </tr>\n",
       "    <tr>\n",
       "      <td>2020-03-01 21:00:00</td>\n",
       "      <td>9529.33333</td>\n",
       "    </tr>\n",
       "  </tbody>\n",
       "</table>\n",
       "</div>"
      ],
      "text/plain": [
       "                           Count\n",
       "Timestamp                       \n",
       "2020-02-29 00:00:00   6683.66667\n",
       "2020-02-29 03:00:00   6990.33333\n",
       "2020-02-29 06:00:00   8960.33333\n",
       "2020-02-29 09:00:00  10449.00000\n",
       "2020-02-29 12:00:00  11021.66667\n",
       "2020-02-29 15:00:00  12757.00000\n",
       "2020-02-29 18:00:00  12283.66667\n",
       "2020-02-29 21:00:00   9338.66667\n",
       "2020-03-01 00:00:00   7198.66667\n",
       "2020-03-01 03:00:00   6625.33333\n",
       "2020-03-01 06:00:00   8799.33333\n",
       "2020-03-01 09:00:00  10982.00000\n",
       "2020-03-01 12:00:00  10948.00000\n",
       "2020-03-01 15:00:00  11778.66667\n",
       "2020-03-01 18:00:00  12377.66667\n",
       "2020-03-01 21:00:00   9529.33333"
      ]
     },
     "execution_count": 10,
     "metadata": {},
     "output_type": "execute_result"
    }
   ],
   "source": [
    "data[\"2020-02-29\":\"2020-03-01\"] #it shows data of the time interval specified in the brackets"
   ]
  },
  {
   "cell_type": "code",
   "execution_count": 11,
   "metadata": {},
   "outputs": [
    {
     "data": {
      "text/html": [
       "<div>\n",
       "<style scoped>\n",
       "    .dataframe tbody tr th:only-of-type {\n",
       "        vertical-align: middle;\n",
       "    }\n",
       "\n",
       "    .dataframe tbody tr th {\n",
       "        vertical-align: top;\n",
       "    }\n",
       "\n",
       "    .dataframe thead th {\n",
       "        text-align: right;\n",
       "    }\n",
       "</style>\n",
       "<table border=\"1\" class=\"dataframe\">\n",
       "  <thead>\n",
       "    <tr style=\"text-align: right;\">\n",
       "      <th></th>\n",
       "      <th>Count</th>\n",
       "    </tr>\n",
       "  </thead>\n",
       "  <tbody>\n",
       "    <tr>\n",
       "      <td>count</td>\n",
       "      <td>125.000000</td>\n",
       "    </tr>\n",
       "    <tr>\n",
       "      <td>mean</td>\n",
       "      <td>9754.600000</td>\n",
       "    </tr>\n",
       "    <tr>\n",
       "      <td>std</td>\n",
       "      <td>3509.293191</td>\n",
       "    </tr>\n",
       "    <tr>\n",
       "      <td>min</td>\n",
       "      <td>3012.666670</td>\n",
       "    </tr>\n",
       "    <tr>\n",
       "      <td>25%</td>\n",
       "      <td>7996.666670</td>\n",
       "    </tr>\n",
       "    <tr>\n",
       "      <td>50%</td>\n",
       "      <td>9152.666670</td>\n",
       "    </tr>\n",
       "    <tr>\n",
       "      <td>75%</td>\n",
       "      <td>10759.000000</td>\n",
       "    </tr>\n",
       "    <tr>\n",
       "      <td>max</td>\n",
       "      <td>28465.666670</td>\n",
       "    </tr>\n",
       "  </tbody>\n",
       "</table>\n",
       "</div>"
      ],
      "text/plain": [
       "              Count\n",
       "count    125.000000\n",
       "mean    9754.600000\n",
       "std     3509.293191\n",
       "min     3012.666670\n",
       "25%     7996.666670\n",
       "50%     9152.666670\n",
       "75%    10759.000000\n",
       "max    28465.666670"
      ]
     },
     "execution_count": 11,
     "metadata": {},
     "output_type": "execute_result"
    }
   ],
   "source": [
    "data.describe()"
   ]
  },
  {
   "cell_type": "code",
   "execution_count": 12,
   "metadata": {},
   "outputs": [
    {
     "data": {
      "text/plain": [
       "<matplotlib.axes._subplots.AxesSubplot at 0x104a7c110>"
      ]
     },
     "execution_count": 12,
     "metadata": {},
     "output_type": "execute_result"
    },
    {
     "data": {
      "image/png": "[encoded data removed]",
      "text/plain": [
       "<Figure size 432x288 with 1 Axes>"
      ]
     },
     "metadata": {
      "needs_background": "light"
     },
     "output_type": "display_data"
    }
   ],
   "source": [
    "data.plot.bar()"
   ]
  },
  {
   "cell_type": "code",
   "execution_count": 13,
   "metadata": {},
   "outputs": [
    {
     "data": {
      "text/plain": [
       "<matplotlib.axes._subplots.AxesSubplot at 0x1161cb590>"
      ]
     },
     "execution_count": 13,
     "metadata": {},
     "output_type": "execute_result"
    },
    {
     "data": {
      "image/png": "[encoded data removed]",
      "text/plain": [
       "<Figure size 432x288 with 1 Axes>"
      ]
     },
     "metadata": {
      "needs_background": "light"
     },
     "output_type": "display_data"
    }
   ],
   "source": [
    "data.Count.resample('2H').mean().plot(kind=\"bar\") #it shows data from column Count agregated (resampled) by given time period and it plots it as a bar chart"
   ]
  },
  {
   "cell_type": "code",
   "execution_count": 14,
   "metadata": {},
   "outputs": [
    {
     "data": {
      "text/plain": [
       "Timestamp\n",
       "2020-02-21 10:00:00     8072.666670\n",
       "2020-02-21 15:00:00     9785.833335\n",
       "2020-02-21 20:00:00     6768.333330\n",
       "2020-02-22 01:00:00     6755.333330\n",
       "2020-02-22 06:00:00     9413.000000\n",
       "                           ...     \n",
       "2020-03-07 00:00:00     6918.833330\n",
       "2020-03-07 05:00:00     9126.166665\n",
       "2020-03-07 10:00:00    10533.666670\n",
       "2020-03-07 15:00:00    12700.166670\n",
       "2020-03-07 20:00:00     7161.500000\n",
       "Freq: 5H, Name: Count, Length: 75, dtype: float64"
      ]
     },
     "execution_count": 14,
     "metadata": {},
     "output_type": "execute_result"
    }
   ],
   "source": [
    "data.Count.resample('5H').mean()"
   ]
  },
  {
   "cell_type": "code",
   "execution_count": 15,
   "metadata": {},
   "outputs": [
    {
     "data": {
      "text/plain": [
       "pandas._libs.tslibs.timestamps.Timestamp"
      ]
     },
     "execution_count": 15,
     "metadata": {},
     "output_type": "execute_result"
    }
   ],
   "source": [
    "type(data.index[1])"
   ]
  },
  {
   "cell_type": "code",
   "execution_count": 16,
   "metadata": {},
   "outputs": [],
   "source": [
    "(data['Ticks']=range(0,len(data.index.values)))"
   ]
  },
  {
   "cell_type": "code",
   "execution_count": 17,
   "metadata": {},
   "outputs": [],
   "source": [
    "data_daily=data.Count.resample('D').mean()"
   ]
  },
  {
   "cell_type": "code",
   "execution_count": 18,
   "metadata": {},
   "outputs": [
    {
     "data": {
      "text/plain": [
       "Timestamp\n",
       "2020-02-21     8505.416667\n",
       "2020-02-22     9441.416666\n",
       "2020-02-23    11036.416668\n",
       "2020-02-24     9832.958333\n",
       "2020-02-25    14598.625000\n",
       "Freq: D, Name: Count, dtype: float64"
      ]
     },
     "execution_count": 18,
     "metadata": {},
     "output_type": "execute_result"
    }
   ],
   "source": [
    "data_daily.head()"
   ]
  },
  {
   "cell_type": "code",
   "execution_count": 27,
   "metadata": {},
   "outputs": [],
   "source": [
    "data['Date']=data.index.values"
   ]
  },
  {
   "cell_type": "code",
   "execution_count": 28,
   "metadata": {},
   "outputs": [
    {
     "data": {
      "text/plain": [
       "pandas.core.series.Series"
      ]
     },
     "execution_count": 28,
     "metadata": {},
     "output_type": "execute_result"
    }
   ],
   "source": [
    "type(data.Date)"
   ]
  },
  {
   "cell_type": "code",
   "execution_count": 29,
   "metadata": {},
   "outputs": [],
   "source": [
    "data['Hour']=data.Date.dt.hour"
   ]
  },
  {
   "cell_type": "code",
   "execution_count": 30,
   "metadata": {},
   "outputs": [
    {
     "data": {
      "text/html": [
       "<div>\n",
       "<style scoped>\n",
       "    .dataframe tbody tr th:only-of-type {\n",
       "        vertical-align: middle;\n",
       "    }\n",
       "\n",
       "    .dataframe tbody tr th {\n",
       "        vertical-align: top;\n",
       "    }\n",
       "\n",
       "    .dataframe thead th {\n",
       "        text-align: right;\n",
       "    }\n",
       "</style>\n",
       "<table border=\"1\" class=\"dataframe\">\n",
       "  <thead>\n",
       "    <tr style=\"text-align: right;\">\n",
       "      <th></th>\n",
       "      <th>Count</th>\n",
       "      <th>Ticks</th>\n",
       "      <th>Date</th>\n",
       "      <th>Hour</th>\n",
       "    </tr>\n",
       "    <tr>\n",
       "      <th>Timestamp</th>\n",
       "      <th></th>\n",
       "      <th></th>\n",
       "      <th></th>\n",
       "      <th></th>\n",
       "    </tr>\n",
       "  </thead>\n",
       "  <tbody>\n",
       "    <tr>\n",
       "      <td>2020-02-21 12:00:00</td>\n",
       "      <td>8072.66667</td>\n",
       "      <td>0</td>\n",
       "      <td>2020-02-21 12:00:00</td>\n",
       "      <td>12</td>\n",
       "    </tr>\n",
       "    <tr>\n",
       "      <td>2020-02-21 15:00:00</td>\n",
       "      <td>8519.66667</td>\n",
       "      <td>1</td>\n",
       "      <td>2020-02-21 15:00:00</td>\n",
       "      <td>15</td>\n",
       "    </tr>\n",
       "    <tr>\n",
       "      <td>2020-02-21 18:00:00</td>\n",
       "      <td>11052.00000</td>\n",
       "      <td>2</td>\n",
       "      <td>2020-02-21 18:00:00</td>\n",
       "      <td>18</td>\n",
       "    </tr>\n",
       "    <tr>\n",
       "      <td>2020-02-21 21:00:00</td>\n",
       "      <td>6377.33333</td>\n",
       "      <td>3</td>\n",
       "      <td>2020-02-21 21:00:00</td>\n",
       "      <td>21</td>\n",
       "    </tr>\n",
       "    <tr>\n",
       "      <td>2020-02-22 00:00:00</td>\n",
       "      <td>7159.33333</td>\n",
       "      <td>4</td>\n",
       "      <td>2020-02-22 00:00:00</td>\n",
       "      <td>0</td>\n",
       "    </tr>\n",
       "  </tbody>\n",
       "</table>\n",
       "</div>"
      ],
      "text/plain": [
       "                           Count  Ticks                Date  Hour\n",
       "Timestamp                                                        \n",
       "2020-02-21 12:00:00   8072.66667      0 2020-02-21 12:00:00    12\n",
       "2020-02-21 15:00:00   8519.66667      1 2020-02-21 15:00:00    15\n",
       "2020-02-21 18:00:00  11052.00000      2 2020-02-21 18:00:00    18\n",
       "2020-02-21 21:00:00   6377.33333      3 2020-02-21 21:00:00    21\n",
       "2020-02-22 00:00:00   7159.33333      4 2020-02-22 00:00:00     0"
      ]
     },
     "execution_count": 30,
     "metadata": {},
     "output_type": "execute_result"
    }
   ],
   "source": [
    "data.head()"
   ]
  },
  {
   "cell_type": "code",
   "execution_count": null,
   "metadata": {},
   "outputs": [],
   "source": [
    "hours=data.groupby('Hour').Count.mean()\n",
    "hours"
   ]
  },
  {
   "cell_type": "code",
   "execution_count": null,
   "metadata": {},
   "outputs": [],
   "source": [
    "hours=hours[data.Hour]"
   ]
  },
  {
   "cell_type": "code",
   "execution_count": null,
   "metadata": {},
   "outputs": [],
   "source": [
    "newdata=pd.merge(data,hours,on='Hour',how='right')\n",
    "print(newdata)"
   ]
  },
  {
   "cell_type": "code",
   "execution_count": null,
   "metadata": {},
   "outputs": [],
   "source": [
    "newdata['Diff']=newdata.Count_x-newdata.Count_y"
   ]
  },
  {
   "cell_type": "code",
   "execution_count": null,
   "metadata": {},
   "outputs": [],
   "source": [
    "newdata.Diff.plot(kind='bar')"
   ]
  },
  {
   "cell_type": "code",
   "execution_count": null,
   "metadata": {},
   "outputs": [],
   "source": [
    "newdata.head()"
   ]
  },
  {
   "cell_type": "code",
   "execution_count": null,
   "metadata": {},
   "outputs": [],
   "source": [
    "newdata.loc[:,['Count_x','Count_y']]"
   ]
  },
  {
   "cell_type": "code",
   "execution_count": null,
   "metadata": {},
   "outputs": [],
   "source": []
  }
 ],
 "metadata": {
  "kernelspec": {
   "display_name": "Python 3",
   "language": "python",
   "name": "python3"
  },
  "language_info": {
   "codemirror_mode": {
    "name": "ipython",
    "version": 3
   },
   "file_extension": ".py",
   "mimetype": "text/x-python",
   "name": "python",
   "nbconvert_exporter": "python",
   "pygments_lexer": "ipython3",
   "version": "3.8.5"
  }
 },
 "nbformat": 4,
 "nbformat_minor": 2
}
