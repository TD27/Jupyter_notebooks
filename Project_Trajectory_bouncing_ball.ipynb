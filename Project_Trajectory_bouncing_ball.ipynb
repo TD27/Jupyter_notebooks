{
 "cells": [
  {
   "cell_type": "code",
   "execution_count": 9,
   "metadata": {},
   "outputs": [],
   "source": [
    "import math\n",
    "import numpy as np\n",
    "import pandas as pd\n",
    "import matplotlib.pyplot as plt"
   ]
  },
  {
   "cell_type": "code",
   "execution_count": 10,
   "metadata": {},
   "outputs": [],
   "source": [
    "Gravity_Acc=9.81 #gravity accleration\n",
    "DataX=[]\n",
    "DataY=[]\n",
    "Pairs=np.array([(\"Angle\",\"Velocity\")])\n",
    "Direction=True"
   ]
  },
  {
   "cell_type": "code",
   "execution_count": 13,
   "metadata": {},
   "outputs": [],
   "source": [
    "Velocity=100\n",
    "Angle=60\n",
    "StartX=0\n",
    "StartY=0\n",
    "DataX=[]\n",
    "DataY=[]"
   ]
  },
  {
   "cell_type": "code",
   "execution_count": 14,
   "metadata": {},
   "outputs": [],
   "source": [
    "# Calculation of X coordinate of Value\n",
    "def X_coordinate (Value,Angle):\n",
    "    return Value*math.cos(math.radians(Angle))\n",
    "\n",
    "# Calculation of Y coordinate of Value\n",
    "def Y_coordinate (Value,Angle):\n",
    "    return Value*math.sin(math.radians(Angle))\n",
    "\n",
    "def TrajectoryPointX (V,T,Angle,StartX):\n",
    "    return StartX+X_coordinate(V,Angle)*T\n",
    "\n",
    "# Calculation of the Reflection --- DOESN'T WORK ---\n",
    "def TrajectoryPointY (V,T,Angle,StartY):\n",
    "    return Y_coordinate(V,Angle)*T-0.5*Gravity_Acc*T*T\n",
    "\n",
    "def VxComponent (V,Angle,T):\n",
    "    Value*math.cos(math.radians(Alfa))\n",
    "    \n",
    "def VyComponent (V,Angle,T):\n",
    "    Y_coordinate(V,Angle)*T-0.5*Gravity_Acc*T*T"
   ]
  },
  {
   "cell_type": "code",
   "execution_count": 20,
   "metadata": {},
   "outputs": [
    {
     "ename": "ZeroDivisionError",
     "evalue": "division by zero",
     "output_type": "error",
     "traceback": [
      "\u001b[0;31m---------------------------------------------------------------------------\u001b[0m",
      "\u001b[0;31mZeroDivisionError\u001b[0m                         Traceback (most recent call last)",
      "\u001b[0;32m<ipython-input-20-04f166944842>\u001b[0m in \u001b[0;36m<module>\u001b[0;34m\u001b[0m\n\u001b[1;32m      6\u001b[0m         \u001b[0mVx\u001b[0m\u001b[0;34m=\u001b[0m\u001b[0mx\u001b[0m\u001b[0;34m-\u001b[0m\u001b[0mPrevX\u001b[0m\u001b[0;34m\u001b[0m\u001b[0;34m\u001b[0m\u001b[0m\n\u001b[1;32m      7\u001b[0m         \u001b[0mVy\u001b[0m\u001b[0;34m=\u001b[0m\u001b[0my\u001b[0m\u001b[0;34m-\u001b[0m\u001b[0mPrevY\u001b[0m\u001b[0;34m\u001b[0m\u001b[0;34m\u001b[0m\u001b[0m\n\u001b[0;32m----> 8\u001b[0;31m         \u001b[0mAlfa\u001b[0m\u001b[0;34m=\u001b[0m\u001b[0mmath\u001b[0m\u001b[0;34m.\u001b[0m\u001b[0matan\u001b[0m\u001b[0;34m(\u001b[0m\u001b[0mPrevY\u001b[0m\u001b[0;34m/\u001b[0m\u001b[0mPrevX\u001b[0m\u001b[0;34m)\u001b[0m\u001b[0;34m\u001b[0m\u001b[0;34m\u001b[0m\u001b[0m\n\u001b[0m\u001b[1;32m      9\u001b[0m         \u001b[0mPrevY\u001b[0m\u001b[0;34m=\u001b[0m\u001b[0my\u001b[0m\u001b[0;34m\u001b[0m\u001b[0;34m\u001b[0m\u001b[0m\n\u001b[1;32m     10\u001b[0m         \u001b[0mPrevX\u001b[0m\u001b[0;34m=\u001b[0m\u001b[0mx\u001b[0m\u001b[0;34m\u001b[0m\u001b[0;34m\u001b[0m\u001b[0m\n",
      "\u001b[0;31mZeroDivisionError\u001b[0m: division by zero"
     ]
    }
   ],
   "source": [
    "PrevY=0\n",
    "PrevX=0\n",
    "for Time in np.arange(0,20,1):\n",
    "        x=TrajectoryPointX(Velocity,Time,Angle,StartX)\n",
    "        y=TrajectoryPointY(Velocity,Time,Angle,StartY)\n",
    "        Vx=x-PrevX\n",
    "        Vy=y-PrevY\n",
    "        Alfa=math.atan(PrevY/PrevX)\n",
    "        PrevY=y\n",
    "        PrevX=x\n",
    "        print(x,y,Vy,Vx,Alfa)"
   ]
  },
  {
   "cell_type": "code",
   "execution_count": 18,
   "metadata": {},
   "outputs": [],
   "source": [
    "def Bounce (Velocity,Angle,StartX,StartY):\n",
    "    HitGround=False\n",
    "    TmpX=[]\n",
    "    TmpY=[]\n",
    "    for Time in np.arange(0,50,0.1):\n",
    "        x=TrajectoryPointX(Velocity,Time,Angle,StartX)\n",
    "        y=TrajectoryPointY(Velocity,Time,Angle,StartY)\n",
    "        if y<0:\n",
    "            HitGround=True\n",
    "            Alfa=math.atan()\n",
    "            EndX=x\n",
    "            EndY=y\n",
    "            break\n",
    "        TmpX.append(x)\n",
    "        TmpY.append(y)\n",
    "    return TmpX,TmpY,EndX,EndY,Alfa,HitGround"
   ]
  },
  {
   "cell_type": "code",
   "execution_count": 6,
   "metadata": {},
   "outputs": [],
   "source": [
    "for n in np.arange(0,10,1):\n",
    "    TmpX,TmpY,StartX,StartY,Alfa,HitGround=Bounce(Velocity,Angle,StartX,StartY)\n",
    "    if HitGround:\n",
    "        Velocity=Velocity*0.8\n",
    "        Angle=Alfa\n",
    "    DataX=DataX+TmpX\n",
    "    DataY=DataY+TmpY"
   ]
  },
  {
   "cell_type": "code",
   "execution_count": 7,
   "metadata": {},
   "outputs": [
    {
     "data": {
      "text/plain": [
       "<function matplotlib.pyplot.show(*args, **kw)>"
      ]
     },
     "execution_count": 7,
     "metadata": {},
     "output_type": "execute_result"
    },
    {
     "data": {
      "image/png": "[encoded data removed]",
      "text/plain": [
       "<Figure size 432x288 with 1 Axes>"
      ]
     },
     "metadata": {
      "needs_background": "light"
     },
     "output_type": "display_data"
    }
   ],
   "source": [
    "plt.title('Graf')\n",
    "plt.plot(DataX, DataY)\n",
    "plt.show"
   ]
  },
  {
   "cell_type": "code",
   "execution_count": null,
   "metadata": {},
   "outputs": [],
   "source": []
  },
  {
   "cell_type": "code",
   "execution_count": 8,
   "metadata": {},
   "outputs": [],
   "source": [
    "def MyFunction (x):\n",
    "    print (x)\n",
    "    if x<20:\n",
    "        x = x+1\n",
    "        MyFunction (x)\n",
    "    else:\n",
    "        return"
   ]
  },
  {
   "cell_type": "code",
   "execution_count": null,
   "metadata": {},
   "outputs": [],
   "source": [
    "def Trajectory (Velocity,Angle,StartX,StartY):\n",
    "    for Time in np.arange(0,50,0.1):\n",
    "        x=TrajectoryPointX(Velocity,Time,Angle,StartX)\n",
    "        y=TrajectoryPointY(Velocity,Time,Angle,StartY)"
   ]
  },
  {
   "cell_type": "code",
   "execution_count": null,
   "metadata": {},
   "outputs": [],
   "source": []
  }
 ],
 "metadata": {
  "kernelspec": {
   "display_name": "Python 3",
   "language": "python",
   "name": "python3"
  },
  "language_info": {
   "codemirror_mode": {
    "name": "ipython",
    "version": 3
   },
   "file_extension": ".py",
   "mimetype": "text/x-python",
   "name": "python",
   "nbconvert_exporter": "python",
   "pygments_lexer": "ipython3",
   "version": "3.8.5"
  }
 },
 "nbformat": 4,
 "nbformat_minor": 2
}
